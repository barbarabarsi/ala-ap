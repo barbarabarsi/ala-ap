{
 "cells": [
  {
   "cell_type": "code",
   "execution_count": 1,
   "id": "b8d3b117",
   "metadata": {},
   "outputs": [],
   "source": [
    "struct Path\n",
    "    p::Vector{Int}\n",
    "end"
   ]
  },
  {
   "cell_type": "code",
   "execution_count": 2,
   "id": "36e61588",
   "metadata": {},
   "outputs": [],
   "source": [
    "Base.:*(a::Path, b::Path) = Path(a.p + b.p) # * para os reais, and para booleanos\n",
    "Base.:+(a::Path, b::Path) = Path(minimum(a.p, b.p)) # + para os reais, or para booleanos\n",
    "Base.zero(::Path) = Path(zeros(Int, length(a.p))) # Valor zero\n",
    "Base.show(io::IO, a::Path) = show(io, a.p) # Exibição personalizada\n",
    "# Base.zero(::Path) = Path(0)\n",
    "# Base.show(io::IO, a::Path) = show(io, a.p)"
   ]
  },
  {
   "cell_type": "code",
   "execution_count": 5,
   "id": "dee1bbeb",
   "metadata": {},
   "outputs": [
    {
     "data": {
      "text/plain": [
       "[3, 1, 1, 10]"
      ]
     },
     "execution_count": 5,
     "metadata": {},
     "output_type": "execute_result"
    }
   ],
   "source": [
    "A=Path([ 3, 1, 1, 10 ])"
   ]
  },
  {
   "cell_type": "code",
   "execution_count": 7,
   "id": "154cd621",
   "metadata": {},
   "outputs": [
    {
     "data": {
      "text/plain": [
       "[5, 2, 1, 5]"
      ]
     },
     "execution_count": 7,
     "metadata": {},
     "output_type": "execute_result"
    }
   ],
   "source": [
    "B=Path([ 5, 2, 1, 5])"
   ]
  },
  {
   "cell_type": "code",
   "execution_count": 8,
   "id": "c7373a7d",
   "metadata": {},
   "outputs": [
    {
     "data": {
      "text/plain": [
       "[8, 3, 2, 15]"
      ]
     },
     "execution_count": 8,
     "metadata": {},
     "output_type": "execute_result"
    }
   ],
   "source": [
    "A*B"
   ]
  },
  {
   "cell_type": "code",
   "execution_count": null,
   "id": "ef2d49cb",
   "metadata": {},
   "outputs": [],
   "source": [
    "[ 3 1 1 10 ]*[ 5; 2; 1; 5]"
   ]
  },
  {
   "cell_type": "code",
   "execution_count": null,
   "id": "95c6c4bd",
   "metadata": {},
   "outputs": [],
   "source": [
    "minimum(A)"
   ]
  },
  {
   "cell_type": "code",
   "execution_count": null,
   "id": "c69c65bb",
   "metadata": {},
   "outputs": [],
   "source": []
  }
 ],
 "metadata": {
  "kernelspec": {
   "display_name": "Julia 1.9.3",
   "language": "julia",
   "name": "julia-1.9"
  },
  "language_info": {
   "file_extension": ".jl",
   "mimetype": "application/julia",
   "name": "julia",
   "version": "1.9.3"
  }
 },
 "nbformat": 4,
 "nbformat_minor": 5
}
