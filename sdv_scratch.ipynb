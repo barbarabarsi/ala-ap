{
 "cells": [
  {
   "cell_type": "code",
   "execution_count": null,
   "id": "de0f79ee",
   "metadata": {},
   "outputs": [],
   "source": [
    "function sdv(A)\n",
    "    \n",
    "    # tudo aqui é puramente algoritmo - o código não funciona, não leve a sério!\n",
    "    \n",
    "    v1, s1 = caixa_preta(A)\n",
    "    u1 = (1/s1) * A * v1\n",
    "    \n",
    "    V1 = completa(v1)\n",
    "    U1 = completa(u1)\n",
    "    pre_B = U1' * A * V1\n",
    "    \n",
    "    B = pre_B[ 1:3 .!=1, 1:3 .≠ 1]\n",
    "    \n",
    "    U2, D2, V2 = svd(B)\n",
    "    \n",
    "    #... continuar\n",
    "    \n",
    "end"
   ]
  },
  {
   "cell_type": "code",
   "execution_count": null,
   "id": "6f3b0f9e",
   "metadata": {},
   "outputs": [],
   "source": []
  }
 ],
 "metadata": {
  "kernelspec": {
   "display_name": "Julia 1.9.3",
   "language": "julia",
   "name": "julia-1.9"
  },
  "language_info": {
   "file_extension": ".jl",
   "mimetype": "application/julia",
   "name": "julia",
   "version": "1.9.3"
  }
 },
 "nbformat": 4,
 "nbformat_minor": 5
}
